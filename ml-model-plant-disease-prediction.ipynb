{
 "cells": [
  {
   "cell_type": "markdown",
   "id": "b11e02fa",
   "metadata": {
    "papermill": {
     "duration": 0.007432,
     "end_time": "2023-06-12T08:25:36.022730",
     "exception": false,
     "start_time": "2023-06-12T08:25:36.015298",
     "status": "completed"
    },
    "tags": []
   },
   "source": [
    "<h1>Leaf Disease Prediction</h1>\n",
    "<img \n",
    "style=\"width : 100%;margin: auto;\"    \n",
    "src=\"https://www.google.com/search?q=leaf+disease&sxsrf=ALiCzsb-Fr5LvT82eoxXJt3fDQmP8Qo_cA:1654161628719&source=lnms&tbm=isch&sa=X&ved=2ahUKEwiGpZ-iuI74AhVKBaYKHYEJBIMQ_AUoAXoECAIQAw&biw=1707&bih=806&dpr=1.13#imgrc=BJHS-ZYd7zmuTM&imgdii=O8NuCBPDZa8ipM>"
   ]
  },
  {
   "cell_type": "code",
   "execution_count": 1,
   "id": "89e7bf49",
   "metadata": {
    "execution": {
     "iopub.execute_input": "2023-06-12T08:25:36.037793Z",
     "iopub.status.busy": "2023-06-12T08:25:36.037017Z",
     "iopub.status.idle": "2023-06-12T08:25:41.747706Z",
     "shell.execute_reply": "2023-06-12T08:25:41.746854Z"
    },
    "papermill": {
     "duration": 5.720853,
     "end_time": "2023-06-12T08:25:41.750087",
     "exception": false,
     "start_time": "2023-06-12T08:25:36.029234",
     "status": "completed"
    },
    "tags": []
   },
   "outputs": [],
   "source": [
    "import warnings\n",
    "warnings.filterwarnings(\"ignore\")\n",
    "import tensorflow as tf\n",
    "import matplotlib.pyplot as plt\n",
    "tf.compat.v1.set_random_seed(0)\n",
    "from tensorflow import keras\n",
    "import numpy as np\n",
    "np.random.seed(0)\n",
    "import itertools\n",
    "from keras.preprocessing.image import image_dataset_from_directory\n",
    "from tensorflow.keras.layers.experimental.preprocessing import Rescaling\n",
    "from sklearn.metrics import precision_score, accuracy_score, recall_score, confusion_matrix, ConfusionMatrixDisplay"
   ]
  },
  {
   "cell_type": "markdown",
   "id": "20b70ac2",
   "metadata": {
    "papermill": {
     "duration": 0.006417,
     "end_time": "2023-06-12T08:25:41.763160",
     "exception": false,
     "start_time": "2023-06-12T08:25:41.756743",
     "status": "completed"
    },
    "tags": []
   },
   "source": [
    "<h1>Data Loading</h1>\n",
    "<p>Setting up Image Data Generators<p>"
   ]
  },
  {
   "cell_type": "code",
   "execution_count": 2,
   "id": "b6906329",
   "metadata": {
    "execution": {
     "iopub.execute_input": "2023-06-12T08:25:41.777271Z",
     "iopub.status.busy": "2023-06-12T08:25:41.776713Z",
     "iopub.status.idle": "2023-06-12T08:26:09.934293Z",
     "shell.execute_reply": "2023-06-12T08:26:09.933507Z"
    },
    "papermill": {
     "duration": 28.16704,
     "end_time": "2023-06-12T08:26:09.936512",
     "exception": false,
     "start_time": "2023-06-12T08:25:41.769472",
     "status": "completed"
    },
    "tags": []
   },
   "outputs": [
    {
     "name": "stdout",
     "output_type": "stream",
     "text": [
      "Found 70295 files belonging to 38 classes.\n",
      "Found 17572 files belonging to 38 classes.\n"
     ]
    }
   ],
   "source": [
    "#train_gen = image_dataset_from_directory(directory=\"../input/new-plant-diseases-dataset/train\",image_size=(256, 256))\n",
    "#test_gen = image_dataset_from_directory(directory=\"../input/new-plant-diseases-dataset/valid\",image_size=(256, 256))\n",
    "\n",
    "train_gen = image_dataset_from_directory(directory=\"../input/new-plant-diseases-dataset/New Plant Diseases Dataset(Augmented)/New Plant Diseases Dataset(Augmented)/train\",\n",
    "                                         image_size=(256, 256))\n",
    "test_gen = image_dataset_from_directory(directory=\"../input/new-plant-diseases-dataset/New Plant Diseases Dataset(Augmented)/New Plant Diseases Dataset(Augmented)/valid\",\n",
    "                                        image_size=(256, 256))\n",
    "\n",
    "rescale = Rescaling(scale=1.0/255)\n",
    "train_gen = train_gen.map(lambda image,label:(rescale(image),label))\n",
    "test_gen  = test_gen.map(lambda image,label:(rescale(image),label))"
   ]
  },
  {
   "cell_type": "markdown",
   "id": "0612fffd",
   "metadata": {
    "papermill": {
     "duration": 0.006316,
     "end_time": "2023-06-12T08:26:09.949503",
     "exception": false,
     "start_time": "2023-06-12T08:26:09.943187",
     "status": "completed"
    },
    "tags": []
   },
   "source": [
    "<h1>Data Engineering</h1>\n",
    "<p>Since the data is already augmented, there is no requirement of data engineering. Feature scaling is automatically done by image generators</p>"
   ]
  },
  {
   "cell_type": "markdown",
   "id": "735b305e",
   "metadata": {
    "papermill": {
     "duration": 0.006269,
     "end_time": "2023-06-12T08:26:09.962403",
     "exception": false,
     "start_time": "2023-06-12T08:26:09.956134",
     "status": "completed"
    },
    "tags": []
   },
   "source": [
    "### Modeling "
   ]
  },
  {
   "cell_type": "markdown",
   "id": "9fa5f53d",
   "metadata": {
    "papermill": {
     "duration": 0.006213,
     "end_time": "2023-06-12T08:26:09.975134",
     "exception": false,
     "start_time": "2023-06-12T08:26:09.968921",
     "status": "completed"
    },
    "tags": []
   },
   "source": []
  },
  {
   "cell_type": "code",
   "execution_count": 3,
   "id": "91258e71",
   "metadata": {
    "execution": {
     "iopub.execute_input": "2023-06-12T08:26:09.989365Z",
     "iopub.status.busy": "2023-06-12T08:26:09.989044Z",
     "iopub.status.idle": "2023-06-12T08:26:10.144848Z",
     "shell.execute_reply": "2023-06-12T08:26:10.144037Z"
    },
    "papermill": {
     "duration": 0.165807,
     "end_time": "2023-06-12T08:26:10.147525",
     "exception": false,
     "start_time": "2023-06-12T08:26:09.981718",
     "status": "completed"
    },
    "tags": []
   },
   "outputs": [
    {
     "name": "stdout",
     "output_type": "stream",
     "text": [
      "Model: \"sequential\"\n",
      "_________________________________________________________________\n",
      "Layer (type)                 Output Shape              Param #   \n",
      "=================================================================\n",
      "conv2d (Conv2D)              (None, 256, 256, 32)      896       \n",
      "_________________________________________________________________\n",
      "conv2d_1 (Conv2D)            (None, 256, 256, 32)      9248      \n",
      "_________________________________________________________________\n",
      "max_pooling2d (MaxPooling2D) (None, 85, 85, 32)        0         \n",
      "_________________________________________________________________\n",
      "conv2d_2 (Conv2D)            (None, 85, 85, 64)        18496     \n",
      "_________________________________________________________________\n",
      "conv2d_3 (Conv2D)            (None, 85, 85, 64)        36928     \n",
      "_________________________________________________________________\n",
      "max_pooling2d_1 (MaxPooling2 (None, 28, 28, 64)        0         \n",
      "_________________________________________________________________\n",
      "conv2d_4 (Conv2D)            (None, 28, 28, 128)       73856     \n",
      "_________________________________________________________________\n",
      "conv2d_5 (Conv2D)            (None, 28, 28, 128)       147584    \n",
      "_________________________________________________________________\n",
      "max_pooling2d_2 (MaxPooling2 (None, 9, 9, 128)         0         \n",
      "_________________________________________________________________\n",
      "conv2d_6 (Conv2D)            (None, 9, 9, 256)         295168    \n",
      "_________________________________________________________________\n",
      "conv2d_7 (Conv2D)            (None, 9, 9, 256)         590080    \n",
      "_________________________________________________________________\n",
      "conv2d_8 (Conv2D)            (None, 9, 9, 512)         3277312   \n",
      "_________________________________________________________________\n",
      "conv2d_9 (Conv2D)            (None, 9, 9, 512)         6554112   \n",
      "_________________________________________________________________\n",
      "flatten (Flatten)            (None, 41472)             0         \n",
      "_________________________________________________________________\n",
      "dense (Dense)                (None, 1568)              65029664  \n",
      "_________________________________________________________________\n",
      "dropout (Dropout)            (None, 1568)              0         \n",
      "_________________________________________________________________\n",
      "dense_1 (Dense)              (None, 38)                59622     \n",
      "=================================================================\n",
      "Total params: 76,092,966\n",
      "Trainable params: 76,092,966\n",
      "Non-trainable params: 0\n",
      "_________________________________________________________________\n"
     ]
    }
   ],
   "source": [
    "model = keras.Sequential()\n",
    "\n",
    "model.add(keras.layers.Conv2D(32,(3,3),activation=\"relu\",padding=\"same\",input_shape=(256,256,3)))\n",
    "model.add(keras.layers.Conv2D(32,(3,3),activation=\"relu\",padding=\"same\"))\n",
    "model.add(keras.layers.MaxPooling2D(3,3))\n",
    "\n",
    "model.add(keras.layers.Conv2D(64,(3,3),activation=\"relu\",padding=\"same\"))\n",
    "model.add(keras.layers.Conv2D(64,(3,3),activation=\"relu\",padding=\"same\"))\n",
    "model.add(keras.layers.MaxPooling2D(3,3))\n",
    "\n",
    "model.add(keras.layers.Conv2D(128,(3,3),activation=\"relu\",padding=\"same\"))\n",
    "model.add(keras.layers.Conv2D(128,(3,3),activation=\"relu\",padding=\"same\"))\n",
    "model.add(keras.layers.MaxPooling2D(3,3))\n",
    "\n",
    "model.add(keras.layers.Conv2D( 256,(3,3),activation=\"relu\",padding=\"same\"))\n",
    "model.add(keras.layers.Conv2D(256,(3,3),activation=\"relu\",padding=\"same\"))\n",
    "\n",
    "model.add(keras.layers.Conv2D(512,(5,5),activation=\"relu\",padding=\"same\"))\n",
    "model.add(keras.layers.Conv2D(512,(5,5),activation=\"relu\",padding=\"same\"))\n",
    "\n",
    "model.add(keras.layers.Flatten())\n",
    "\n",
    "model.add(keras.layers.Dense(1568,activation=\"relu\"))\n",
    "model.add(keras.layers.Dropout(0.5))\n",
    "\n",
    "model.add(keras.layers.Dense(38,activation=\"softmax\"))\n",
    "\n",
    "opt = keras.optimizers.Adam(learning_rate=0.0001)\n",
    "model.compile(optimizer=opt,loss=\"sparse_categorical_crossentropy\",metrics=['accuracy'])\n",
    "model.summary()"
   ]
  },
  {
   "cell_type": "code",
   "execution_count": 4,
   "id": "392f3139",
   "metadata": {
    "execution": {
     "iopub.execute_input": "2023-06-12T08:26:10.162280Z",
     "iopub.status.busy": "2023-06-12T08:26:10.161975Z",
     "iopub.status.idle": "2023-06-12T09:27:30.595602Z",
     "shell.execute_reply": "2023-06-12T09:27:30.594719Z"
    },
    "papermill": {
     "duration": 3682.071003,
     "end_time": "2023-06-12T09:27:32.225298",
     "exception": false,
     "start_time": "2023-06-12T08:26:10.154295",
     "status": "completed"
    },
    "tags": []
   },
   "outputs": [
    {
     "name": "stdout",
     "output_type": "stream",
     "text": [
      "Epoch 1/10\n",
      "2197/2197 [==============================] - 385s 170ms/step - loss: 1.5659 - accuracy: 0.5448 - val_loss: 0.5501 - val_accuracy: 0.8284\n",
      "Epoch 2/10\n",
      "2197/2197 [==============================] - 346s 157ms/step - loss: 0.4259 - accuracy: 0.8648 - val_loss: 0.3166 - val_accuracy: 0.8963\n",
      "Epoch 3/10\n",
      "2197/2197 [==============================] - 347s 158ms/step - loss: 0.2497 - accuracy: 0.9188 - val_loss: 0.2482 - val_accuracy: 0.9211\n",
      "Epoch 4/10\n",
      "2197/2197 [==============================] - 363s 165ms/step - loss: 0.1702 - accuracy: 0.9437 - val_loss: 0.1708 - val_accuracy: 0.9458\n",
      "Epoch 5/10\n",
      "2197/2197 [==============================] - 346s 157ms/step - loss: 0.1282 - accuracy: 0.9567 - val_loss: 0.1622 - val_accuracy: 0.9487\n",
      "Epoch 6/10\n",
      "2197/2197 [==============================] - 345s 157ms/step - loss: 0.0974 - accuracy: 0.9675 - val_loss: 0.2722 - val_accuracy: 0.9200\n",
      "Epoch 7/10\n",
      "2197/2197 [==============================] - 344s 157ms/step - loss: 0.0794 - accuracy: 0.9738 - val_loss: 0.1779 - val_accuracy: 0.9491\n",
      "Epoch 8/10\n",
      "2197/2197 [==============================] - 346s 157ms/step - loss: 0.0708 - accuracy: 0.9762 - val_loss: 0.1270 - val_accuracy: 0.9632\n",
      "Epoch 9/10\n",
      "2197/2197 [==============================] - 347s 158ms/step - loss: 0.0602 - accuracy: 0.9801 - val_loss: 0.1208 - val_accuracy: 0.9631\n",
      "Epoch 10/10\n",
      "2197/2197 [==============================] - 347s 158ms/step - loss: 0.0496 - accuracy: 0.9843 - val_loss: 0.1361 - val_accuracy: 0.9632\n"
     ]
    }
   ],
   "source": [
    "ep = 10\n",
    "history = model.fit_generator(train_gen,\n",
    "          validation_data=test_gen,\n",
    "          epochs = ep)"
   ]
  },
  {
   "cell_type": "code",
   "execution_count": 5,
   "id": "095233dd",
   "metadata": {
    "execution": {
     "iopub.execute_input": "2023-06-12T09:27:35.788112Z",
     "iopub.status.busy": "2023-06-12T09:27:35.787700Z",
     "iopub.status.idle": "2023-06-12T09:27:37.656196Z",
     "shell.execute_reply": "2023-06-12T09:27:37.655088Z"
    },
    "papermill": {
     "duration": 3.734915,
     "end_time": "2023-06-12T09:27:37.659672",
     "exception": false,
     "start_time": "2023-06-12T09:27:33.924757",
     "status": "completed"
    },
    "tags": []
   },
   "outputs": [],
   "source": [
    "model.save(\"plant_disease.h5\")"
   ]
  },
  {
   "cell_type": "code",
   "execution_count": 6,
   "id": "b627c474",
   "metadata": {
    "execution": {
     "iopub.execute_input": "2023-06-12T09:27:41.048501Z",
     "iopub.status.busy": "2023-06-12T09:27:41.047950Z",
     "iopub.status.idle": "2023-06-12T09:27:43.132682Z",
     "shell.execute_reply": "2023-06-12T09:27:43.131661Z"
    },
    "papermill": {
     "duration": 3.779426,
     "end_time": "2023-06-12T09:27:43.135837",
     "exception": false,
     "start_time": "2023-06-12T09:27:39.356411",
     "status": "completed"
    },
    "tags": []
   },
   "outputs": [],
   "source": [
    "import tensorflow as tf\n",
    "\n",
    "model = tf.keras.models.load_model('/kaggle/working/plant_disease.h5')\n"
   ]
  },
  {
   "cell_type": "code",
   "execution_count": 7,
   "id": "aebd2761",
   "metadata": {
    "execution": {
     "iopub.execute_input": "2023-06-12T09:27:46.986932Z",
     "iopub.status.busy": "2023-06-12T09:27:46.986496Z",
     "iopub.status.idle": "2023-06-12T09:28:07.842426Z",
     "shell.execute_reply": "2023-06-12T09:28:07.841507Z"
    },
    "papermill": {
     "duration": 22.571186,
     "end_time": "2023-06-12T09:28:07.845279",
     "exception": false,
     "start_time": "2023-06-12T09:27:45.274093",
     "status": "completed"
    },
    "tags": []
   },
   "outputs": [],
   "source": [
    "converter = tf.lite.TFLiteConverter.from_keras_model(model)\n",
    "tflite_model = converter.convert()\n"
   ]
  },
  {
   "cell_type": "code",
   "execution_count": 8,
   "id": "ea69bde5",
   "metadata": {
    "execution": {
     "iopub.execute_input": "2023-06-12T09:28:11.246771Z",
     "iopub.status.busy": "2023-06-12T09:28:11.246376Z",
     "iopub.status.idle": "2023-06-12T09:28:11.484537Z",
     "shell.execute_reply": "2023-06-12T09:28:11.483649Z"
    },
    "papermill": {
     "duration": 1.930095,
     "end_time": "2023-06-12T09:28:11.486972",
     "exception": false,
     "start_time": "2023-06-12T09:28:09.556877",
     "status": "completed"
    },
    "tags": []
   },
   "outputs": [],
   "source": [
    "with open('model.tflite', 'wb') as f:\n",
    "    f.write(tflite_model)\n"
   ]
  },
  {
   "cell_type": "code",
   "execution_count": 9,
   "id": "a631afe0",
   "metadata": {
    "execution": {
     "iopub.execute_input": "2023-06-12T09:28:14.911498Z",
     "iopub.status.busy": "2023-06-12T09:28:14.910977Z",
     "iopub.status.idle": "2023-06-12T09:28:15.309701Z",
     "shell.execute_reply": "2023-06-12T09:28:15.308837Z"
    },
    "papermill": {
     "duration": 2.184314,
     "end_time": "2023-06-12T09:28:15.311893",
     "exception": false,
     "start_time": "2023-06-12T09:28:13.127579",
     "status": "completed"
    },
    "tags": []
   },
   "outputs": [],
   "source": [
    "import numpy as np\n",
    "import tensorflow as tf\n",
    "from PIL import Image\n",
    "\n",
    "# Load the TFLite model\n",
    "interpreter = tf.lite.Interpreter(model_path=\"/kaggle/working/model.tflite\")\n",
    "interpreter.allocate_tensors()\n",
    "\n",
    "# Get input and output tensors\n",
    "input_details = interpreter.get_input_details()\n",
    "output_details = interpreter.get_output_details()\n",
    "\n",
    "# Load the image\n",
    "image = Image.open(\"/kaggle/input/new-plant-diseases-dataset/test/test/AppleCedarRust1.JPG\").convert(\"RGB\")\n",
    "image = image.resize((input_details[0]['shape'][1], input_details[0]['shape'][2]))\n",
    "\n",
    "# Prepare input data\n",
    "input_data = np.expand_dims(image, axis=0)\n",
    "input_data = input_data.astype(np.float32)\n",
    "\n",
    "# Set the input tensor\n",
    "interpreter.set_tensor(input_details[0]['index'], input_data)\n",
    "\n",
    "# Run inference\n",
    "interpreter.invoke()\n",
    "\n",
    "# Get the output tensor\n",
    "output_data = interpreter.get_tensor(output_details[0]['index'])\n",
    "\n",
    "# Process the output\n",
    "prediction = np.argmax(output_data[0])\n"
   ]
  },
  {
   "cell_type": "code",
   "execution_count": 10,
   "id": "17a6166c",
   "metadata": {
    "execution": {
     "iopub.execute_input": "2023-06-12T09:28:18.757399Z",
     "iopub.status.busy": "2023-06-12T09:28:18.757022Z",
     "iopub.status.idle": "2023-06-12T09:28:18.764569Z",
     "shell.execute_reply": "2023-06-12T09:28:18.763788Z"
    },
    "papermill": {
     "duration": 1.775372,
     "end_time": "2023-06-12T09:28:18.767252",
     "exception": false,
     "start_time": "2023-06-12T09:28:16.991880",
     "status": "completed"
    },
    "tags": []
   },
   "outputs": [
    {
     "data": {
      "text/plain": [
       "4"
      ]
     },
     "execution_count": 10,
     "metadata": {},
     "output_type": "execute_result"
    }
   ],
   "source": [
    "prediction"
   ]
  },
  {
   "cell_type": "markdown",
   "id": "792ebd15",
   "metadata": {
    "papermill": {
     "duration": 1.693293,
     "end_time": "2023-06-12T09:28:22.316249",
     "exception": false,
     "start_time": "2023-06-12T09:28:20.622956",
     "status": "completed"
    },
    "tags": []
   },
   "source": [
    "<h1>Metrics</h1>"
   ]
  },
  {
   "cell_type": "code",
   "execution_count": 11,
   "id": "93cedb6c",
   "metadata": {
    "execution": {
     "iopub.execute_input": "2023-06-12T09:28:25.807628Z",
     "iopub.status.busy": "2023-06-12T09:28:25.806684Z",
     "iopub.status.idle": "2023-06-12T09:28:26.609448Z",
     "shell.execute_reply": "2023-06-12T09:28:26.608651Z"
    },
    "papermill": {
     "duration": 2.635689,
     "end_time": "2023-06-12T09:28:26.611683",
     "exception": false,
     "start_time": "2023-06-12T09:28:23.975994",
     "status": "completed"
    },
    "tags": []
   },
   "outputs": [
    {
     "data": {
      "image/png": "[encoded data removed]",
      "text/plain": [
       "<Figure size 1440x360 with 2 Axes>"
      ]
     },
     "metadata": {
      "needs_background": "light"
     },
     "output_type": "display_data"
    }
   ],
   "source": [
    "plt.figure(figsize = (20,5))\n",
    "plt.subplot(1,2,1)\n",
    "plt.title(\"Train and Validation Loss\")\n",
    "plt.xlabel(\"Epoch\")\n",
    "plt.ylabel(\"Loss\")\n",
    "plt.plot(history.history['loss'],label=\"Train Loss\")\n",
    "plt.plot(history.history['val_loss'], label=\"Validation Loss\")\n",
    "plt.xlim(0, 10)\n",
    "plt.ylim(0.0,1.0)\n",
    "plt.legend()\n",
    "\n",
    "plt.subplot(1,2,2)\n",
    "plt.title(\"Train and Validation Accuracy\")\n",
    "plt.xlabel(\"Epoch\")\n",
    "plt.ylabel(\"Accuracy\")\n",
    "plt.plot(history.history['accuracy'], label=\"Train Accuracy\")\n",
    "plt.plot(history.history['val_accuracy'], label=\"Validation Accuracy\")\n",
    "plt.xlim(0, 9.25)\n",
    "plt.ylim(0.75,1.0)\n",
    "plt.legend()\n",
    "plt.tight_layout()"
   ]
  },
  {
   "cell_type": "code",
   "execution_count": 12,
   "id": "b8f14d4b",
   "metadata": {
    "execution": {
     "iopub.execute_input": "2023-06-12T09:28:30.537170Z",
     "iopub.status.busy": "2023-06-12T09:28:30.536762Z",
     "iopub.status.idle": "2023-06-12T09:29:29.014014Z",
     "shell.execute_reply": "2023-06-12T09:29:29.013114Z"
    },
    "papermill": {
     "duration": 60.718307,
     "end_time": "2023-06-12T09:29:29.016851",
     "exception": false,
     "start_time": "2023-06-12T09:28:28.298544",
     "status": "completed"
    },
    "tags": []
   },
   "outputs": [],
   "source": [
    "labels = []\n",
    "predictions = []\n",
    "for x,y in test_gen:\n",
    "    labels.append(list(y.numpy()))\n",
    "    predictions.append(tf.argmax(model.predict(x),1).numpy())"
   ]
  },
  {
   "cell_type": "code",
   "execution_count": 13,
   "id": "086c259a",
   "metadata": {
    "execution": {
     "iopub.execute_input": "2023-06-12T09:29:32.321253Z",
     "iopub.status.busy": "2023-06-12T09:29:32.320846Z",
     "iopub.status.idle": "2023-06-12T09:29:32.329053Z",
     "shell.execute_reply": "2023-06-12T09:29:32.328105Z"
    },
    "papermill": {
     "duration": 1.692856,
     "end_time": "2023-06-12T09:29:32.331430",
     "exception": false,
     "start_time": "2023-06-12T09:29:30.638574",
     "status": "completed"
    },
    "tags": []
   },
   "outputs": [],
   "source": [
    "predictions = list(itertools.chain.from_iterable(predictions))\n",
    "labels = list(itertools.chain.from_iterable(labels))"
   ]
  },
  {
   "cell_type": "code",
   "execution_count": 14,
   "id": "f8e78b05",
   "metadata": {
    "execution": {
     "iopub.execute_input": "2023-06-12T09:29:36.200002Z",
     "iopub.status.busy": "2023-06-12T09:29:36.199596Z",
     "iopub.status.idle": "2023-06-12T09:29:36.266782Z",
     "shell.execute_reply": "2023-06-12T09:29:36.265751Z"
    },
    "papermill": {
     "duration": 1.845638,
     "end_time": "2023-06-12T09:29:36.269216",
     "exception": false,
     "start_time": "2023-06-12T09:29:34.423578",
     "status": "completed"
    },
    "tags": []
   },
   "outputs": [
    {
     "name": "stdout",
     "output_type": "stream",
     "text": [
      "Train Accuracy  : 98.43 %\n",
      "Test Accuracy   : 96.32 %\n",
      "Precision Score : 96.32 %\n",
      "Recall Score    : 96.32 %\n"
     ]
    }
   ],
   "source": [
    "print(\"Train Accuracy  : {:.2f} %\".format(history.history['accuracy'][-1]*100))\n",
    "print(\"Test Accuracy   : {:.2f} %\".format(accuracy_score(labels, predictions) * 100))\n",
    "print(\"Precision Score : {:.2f} %\".format(precision_score(labels, predictions, average='micro') * 100))\n",
    "print(\"Recall Score    : {:.2f} %\".format(recall_score(labels, predictions, average='micro') * 100))"
   ]
  },
  {
   "cell_type": "markdown",
   "id": "078f15c6",
   "metadata": {
    "papermill": {
     "duration": 1.712152,
     "end_time": "2023-06-12T09:29:39.697322",
     "exception": false,
     "start_time": "2023-06-12T09:29:37.985170",
     "status": "completed"
    },
    "tags": []
   },
   "source": [
    "<h3>Confusion Matrix</h3>"
   ]
  },
  {
   "cell_type": "code",
   "execution_count": 15,
   "id": "8d869402",
   "metadata": {
    "execution": {
     "iopub.execute_input": "2023-06-12T09:29:43.076298Z",
     "iopub.status.busy": "2023-06-12T09:29:43.075913Z",
     "iopub.status.idle": "2023-06-12T09:29:47.594262Z",
     "shell.execute_reply": "2023-06-12T09:29:47.593485Z"
    },
    "papermill": {
     "duration": 6.152836,
     "end_time": "2023-06-12T09:29:47.596949",
     "exception": false,
     "start_time": "2023-06-12T09:29:41.444113",
     "status": "completed"
    },
    "tags": []
   },
   "outputs": [
    {
     "data": {
      "text/plain": [
       "<Figure size 1440x360 with 0 Axes>"
      ]
     },
     "metadata": {},
     "output_type": "display_data"
    },
    {
     "data": {
      "image/png": "[encoded data removed]",
      "text/plain": [
       "<Figure size 1080x1080 with 1 Axes>"
      ]
     },
     "metadata": {
      "needs_background": "light"
     },
     "output_type": "display_data"
    }
   ],
   "source": [
    "plt.figure(figsize= (20,5))\n",
    "cm = confusion_matrix(labels, predictions)\n",
    "disp = ConfusionMatrixDisplay(confusion_matrix=cm,\n",
    "                              display_labels=list(range(1,39)))\n",
    "fig, ax = plt.subplots(figsize=(15,15))\n",
    "disp.plot(ax=ax,colorbar= False,cmap = 'YlGnBu')\n",
    "plt.title(\"Confusion Matrix\")\n",
    "plt.xlabel('Predicted Labels')\n",
    "plt.ylabel('True Labels')\n",
    "plt.show()"
   ]
  },
  {
   "cell_type": "code",
   "execution_count": null,
   "id": "0f339fa2",
   "metadata": {
    "papermill": {
     "duration": 1.688439,
     "end_time": "2023-06-12T09:29:50.995571",
     "exception": false,
     "start_time": "2023-06-12T09:29:49.307132",
     "status": "completed"
    },
    "tags": []
   },
   "outputs": [],
   "source": []
  },
  {
   "cell_type": "code",
   "execution_count": null,
   "id": "b7bd4333",
   "metadata": {
    "papermill": {
     "duration": 1.731612,
     "end_time": "2023-06-12T09:29:54.435623",
     "exception": false,
     "start_time": "2023-06-12T09:29:52.704011",
     "status": "completed"
    },
    "tags": []
   },
   "outputs": [],
   "source": []
  }
 ],
 "metadata": {
  "kernelspec": {
   "display_name": "Python 3",
   "language": "python",
   "name": "python3"
  },
  "language_info": {
   "codemirror_mode": {
    "name": "ipython",
    "version": 3
   },
   "file_extension": ".py",
   "mimetype": "text/x-python",
   "name": "python",
   "nbconvert_exporter": "python",
   "pygments_lexer": "ipython3",
   "version": "3.7.12"
  },
  "papermill": {
   "default_parameters": {},
   "duration": 3873.138157,
   "end_time": "2023-06-12T09:29:59.804976",
   "environment_variables": {},
   "exception": null,
   "input_path": "__notebook__.ipynb",
   "output_path": "__notebook__.ipynb",
   "parameters": {},
   "start_time": "2023-06-12T08:25:26.666819",
   "version": "2.3.4"
  }
 },
 "nbformat": 4,
 "nbformat_minor": 5
}
